{
 "cells": [
  {
   "cell_type": "markdown",
   "metadata": {},
   "source": [
    "# Exploring expressives in goodreads reviews"
   ]
  },
  {
   "cell_type": "markdown",
   "metadata": {},
   "source": [
    "В данном ноутбуке проводится анализ экспрессивов из отзывов **goodreads**. Для подробного рассмотрения был выбран экспрессив **\"wonderful\"**, однако алгоритм можно протестировать и на других примерах."
   ]
  },
  {
   "cell_type": "markdown",
   "metadata": {},
   "source": [
    "## Анализ экспрессива \"wonderful\""
   ]
  },
  {
   "cell_type": "markdown",
   "metadata": {},
   "source": [
    "Рассмотрим несколько примеров, которые показывают, что слово \"wonderful\" можно отнести к экспрессиву.\n",
    "\n",
    "1) **Полярность**. Очевидно, что слово \"wonderful\" обладает позитивной полярностью, так как в большинстве случаев оно используется для выражения положительных эмоций:\n",
    "<br>\n",
    "— What a wonderful day!\n",
    "<br>\n",
    "— It was a wonderful experience.\n",
    "<br>\n",
    "К исключениям можно отнести случаи с отрицанием и противопоставлениями:\n",
    "<br>\n",
    "— Trust me, he's not that wonderful.\n",
    "<br>\n",
    "— That is wonderful, but unfortunately not enough.\n",
    "<br>\n",
    "\n",
    "2) **Интенсивность**. В словаре Cambridge Dictionary слово \"wonderful\" определяется как \"*extremely good*\". Можно считать, что \"wonderful\" обладает большей интенсивностью, чем слово \"good\":\n",
    "<br>\n",
    " — This book is good.\n",
    "<br>\n",
    "— This book is wonderful.\n",
    "<br>\n",
    "\n",
    "3) **Личный взгляд говорящего.** Слово \"wonderful\" выражает субъективное мнение говорящего о предмете разговора. Рассмотрим следующее предложение:\n",
    "<br>\n",
    "—  What a wonderful book!\n",
    "<br>\n",
    "То, что говорящий считает книгу замечательной, еще не означает, что таковой ее считают все читатели.\n",
    "<br>\n",
    "4) **Возможность повторения для усиления эффекта**\n",
    "<br>\n",
    "— Thank you, Evan, you're a wonderful, wonderful guy.\n",
    "<br>\n",
    "— I want to say, without a doubt, this is a wonderful, wonderful, absolutely wonderful movie!\n",
    "<br>\n",
    "\n",
    "**Предположительный профиль экспрессива \"wonderful\"**\n",
    "<br>\n",
    "Если исследовать экспрессив \"wonderful\"  в контексте положительных, нейтральных и негативных отзывов, то можно предположить, что профиль экспрессива будет J-образный. То есть, чем положительнее будет отзыв, тем больше будет вероятность встретить в этом отзыве экспрессив \"wonderful\".\n",
    "<br>\n"
   ]
  },
  {
   "cell_type": "markdown",
   "metadata": {},
   "source": [
    "## Импорт библиотек и обзор данных"
   ]
  },
  {
   "cell_type": "code",
   "execution_count": 110,
   "metadata": {},
   "outputs": [],
   "source": [
    "# импорт библиотек\n",
    "import re\n",
    "import numpy as np \n",
    "import pandas as pd \n",
    "import matplotlib.pyplot as plt\n",
    "from nltk.tokenize import word_tokenize\n",
    "from tqdm.notebook import tqdm"
   ]
  },
  {
   "cell_type": "markdown",
   "metadata": {},
   "source": [
    "В рамках данной работы был создан корпус в рецензиями на книги с сайта goodreads.com. Оценка книг на данном сайте осуществляется по 5-ти бальной шкале."
   ]
  },
  {
   "cell_type": "code",
   "execution_count": 116,
   "metadata": {},
   "outputs": [
    {
     "data": {
      "text/html": [
       "<div>\n",
       "<style scoped>\n",
       "    .dataframe tbody tr th:only-of-type {\n",
       "        vertical-align: middle;\n",
       "    }\n",
       "\n",
       "    .dataframe tbody tr th {\n",
       "        vertical-align: top;\n",
       "    }\n",
       "\n",
       "    .dataframe thead th {\n",
       "        text-align: right;\n",
       "    }\n",
       "</style>\n",
       "<table border=\"1\" class=\"dataframe\">\n",
       "  <thead>\n",
       "    <tr style=\"text-align: right;\">\n",
       "      <th></th>\n",
       "      <th>book_title</th>\n",
       "      <th>text</th>\n",
       "      <th>rating</th>\n",
       "    </tr>\n",
       "  </thead>\n",
       "  <tbody>\n",
       "    <tr>\n",
       "      <th>0</th>\n",
       "      <td>Four Blondes</td>\n",
       "      <td>CW: eating disorders and fat shaming (so much ...</td>\n",
       "      <td>1.0</td>\n",
       "    </tr>\n",
       "    <tr>\n",
       "      <th>1</th>\n",
       "      <td>Four Blondes</td>\n",
       "      <td>This book doesn't even deserve one star. This ...</td>\n",
       "      <td>1.0</td>\n",
       "    </tr>\n",
       "    <tr>\n",
       "      <th>2</th>\n",
       "      <td>Four Blondes</td>\n",
       "      <td>I'm not quite sure what the author was going f...</td>\n",
       "      <td>2.0</td>\n",
       "    </tr>\n",
       "    <tr>\n",
       "      <th>3</th>\n",
       "      <td>Four Blondes</td>\n",
       "      <td>“James is scared about his work. Every time he...</td>\n",
       "      <td>2.0</td>\n",
       "    </tr>\n",
       "    <tr>\n",
       "      <th>4</th>\n",
       "      <td>Four Blondes</td>\n",
       "      <td>Bushnell is one of the worse writers of all ti...</td>\n",
       "      <td>1.0</td>\n",
       "    </tr>\n",
       "  </tbody>\n",
       "</table>\n",
       "</div>"
      ],
      "text/plain": [
       "     book_title                                               text  rating\n",
       "0  Four Blondes  CW: eating disorders and fat shaming (so much ...     1.0\n",
       "1  Four Blondes  This book doesn't even deserve one star. This ...     1.0\n",
       "2  Four Blondes  I'm not quite sure what the author was going f...     2.0\n",
       "3  Four Blondes  “James is scared about his work. Every time he...     2.0\n",
       "4  Four Blondes  Bushnell is one of the worse writers of all ti...     1.0"
      ]
     },
     "execution_count": 116,
     "metadata": {},
     "output_type": "execute_result"
    }
   ],
   "source": [
    "# считывание данных из файла\n",
    "books = pd.read_csv(\"goodreads_reviews_dataset.csv\")\n",
    "# оставляем только название книги, текст отзыва и рейтинг\n",
    "books = books[['book_title', 'text', 'rating']]\n",
    "books = books[books['text'].notna()]\n",
    "books = books[books['rating'].notna()]\n",
    "books.head()"
   ]
  },
  {
   "cell_type": "code",
   "execution_count": 117,
   "metadata": {},
   "outputs": [
    {
     "data": {
      "image/png": "[encoded data removed]",
      "text/plain": [
       "<Figure size 504x216 with 1 Axes>"
      ]
     },
     "metadata": {
      "needs_background": "light"
     },
     "output_type": "display_data"
    }
   ],
   "source": [
    "# распределение классов\n",
    "books['rating'].value_counts().plot(kind=\"bar\", figsize=(7,3))\n",
    "\n",
    "plt.tick_params(labelsize=15)\n",
    "plt.show()"
   ]
  },
  {
   "cell_type": "code",
   "execution_count": 118,
   "metadata": {},
   "outputs": [
    {
     "data": {
      "image/png": "[encoded data removed]",
      "text/plain": [
       "<Figure size 504x216 with 1 Axes>"
      ]
     },
     "metadata": {
      "needs_background": "light"
     },
     "output_type": "display_data"
    }
   ],
   "source": [
    "# сделаем распределение более равномерным\n",
    "\n",
    "books[books[\"rating\"] == 3.0] = books[books[\"rating\"] == 3.0][0:1700]\n",
    "books[books[\"rating\"] == 4.0] = books[books[\"rating\"] == 4.0][0:1800]\n",
    "books[books[\"rating\"] == 5.0] = books[books[\"rating\"] == 5.0][0:2500]\n",
    "\n",
    "books['rating'].value_counts().plot(kind=\"bar\", figsize=(7,3))\n",
    "plt.tick_params(labelsize=15)\n",
    "plt.show()"
   ]
  },
  {
   "cell_type": "markdown",
   "metadata": {},
   "source": [
    "## Моделирование корпуса для экспрессива. Регрессионные модели"
   ]
  },
  {
   "cell_type": "code",
   "execution_count": 111,
   "metadata": {},
   "outputs": [],
   "source": [
    "class Expressive:\n",
    "    \"\"\" Класс для анализа экспрессива \"\"\"\n",
    "\n",
    "    def __init__(self, word_string):\n",
    "        self.word_string = word_string\n",
    "        #self.log_odds_distribution = self.calculate_log_odds()\n",
    "        \n",
    "    def calculate_log_odds(self):\n",
    "        # функция для подсчета log-odds распределения экспрессива \n",
    "        \n",
    "        log_odds_distribution = {}\n",
    "        expressive_len = len(self.word_string)\n",
    "    \n",
    "        # Цикл по 5-ти классам\n",
    "        for rating in tqdm(range(1,6)):\n",
    "            count_xn_R = 0\n",
    "            countn_R = 0\n",
    "            # получение рецензий с оценкой rating\n",
    "            rows = books.loc[books['rating'] == rating]\n",
    "            # цикл по всем рецензиям класса\n",
    "            for review_text in rows['text']:\n",
    "                tokenized_review = word_tokenize(review_text) # токенизация рецензии\n",
    "                # подсчет числа токенов длины, равной длине экспрессива\n",
    "                filtered = [filter(lambda x: len(x) == self.expressive_len, tokenized_review)]\n",
    "                countn_R += len(filtered)\n",
    "                # теперь берем только те рецензии, где есть заданный экспрессив\n",
    "                if self.word_string in review_text:\n",
    "                    count_xn_R += review_text.split().count(self.word_string)\n",
    "            log_odds_distribution[float(rating)] = np.log(count_xn_R/(countn_R - count_xn_R))\n",
    "    \n",
    "        return log_odds_distribution\n",
    "\n",
    "    def get_profile(self):\n",
    "        log_odds_distribution = self.calculate_log_odds()\n",
    "        # графическая интерпретация профиля на основе распределения\n",
    "        x = np.array([-2, -1, 0, 1, 2])\n",
    "        y = log_odds_distribution.values()\n",
    "\n",
    "        frame = plt.gca()\n",
    "        frame.axes.get_xaxis().set_ticks([-2, -1, 0, 1, 2])\n",
    "\n",
    "        plt.scatter(x, y)\n",
    "        plt.show()\n",
    "        \n",
    "    def build_regression_models(self):\n",
    "        log_odds_distribution = self.calculate_log_odds()\n",
    "        # создание и визуализация регрессионных моделей\n",
    "        x = np.array([-2, -1, 0, 1, 2])\n",
    "        y = np.array([*log_odds_distribution.values()])\n",
    "\n",
    "\n",
    "        # Polynomial Regression\n",
    "        mymodel = np.poly1d(np.polyfit(x, y, 3))\n",
    "        myline = np.linspace(-2,2)\n",
    "        frame = plt.gca()\n",
    "        frame.axes.get_xaxis().set_ticks([-2, -1, 0, 1, 2])\n",
    "        plt.scatter(x, y)\n",
    "        plt.plot(myline, mymodel(myline))\n",
    "\n",
    "        # Linear Regression \n",
    "        k, d = np.polyfit(x, y, 1)\n",
    "        y_pred = k*x + d\n",
    "        plt.plot(x, y, '.')\n",
    "        plt.plot(x, y_pred)\n",
    "\n",
    "        plt.show()"
   ]
  },
  {
   "cell_type": "code",
   "execution_count": 112,
   "metadata": {},
   "outputs": [],
   "source": [
    "# создание объекта класса Expressive для слова \"wonderful\"\n",
    "wonderful_expressive = Expressive('wonderful')"
   ]
  },
  {
   "cell_type": "markdown",
   "metadata": {},
   "source": [
    "Построим профиль экспрессива. Можно заметить, что профиль напоминает J-образную форму."
   ]
  },
  {
   "cell_type": "code",
   "execution_count": 113,
   "metadata": {},
   "outputs": [
    {
     "data": {
      "application/vnd.jupyter.widget-view+json": {
       "model_id": "6522fbb7191e4e8a997037236e400309",
       "version_major": 2,
       "version_minor": 0
      },
      "text/plain": [
       "HBox(children=(HTML(value=''), FloatProgress(value=0.0, max=5.0), HTML(value='')))"
      ]
     },
     "metadata": {},
     "output_type": "display_data"
    },
    {
     "name": "stdout",
     "output_type": "stream",
     "text": [
      "\n"
     ]
    },
    {
     "data": {
      "image/png": "[encoded data removed]",
      "text/plain": [
       "<Figure size 432x288 with 1 Axes>"
      ]
     },
     "metadata": {
      "needs_background": "light"
     },
     "output_type": "display_data"
    }
   ],
   "source": [
    "wonderful_expressive.get_profile()"
   ]
  },
  {
   "cell_type": "markdown",
   "metadata": {},
   "source": [
    "Построим две модели для профиля: линейную регрессию и квадратичную регрессию. Из графика видно, что J-образный профиль лучше всего иллюстрирует квадратичная регрессия."
   ]
  },
  {
   "cell_type": "code",
   "execution_count": 115,
   "metadata": {},
   "outputs": [
    {
     "data": {
      "application/vnd.jupyter.widget-view+json": {
       "model_id": "0df27ee103d5447c9fdcdcd4d35af4ba",
       "version_major": 2,
       "version_minor": 0
      },
      "text/plain": [
       "HBox(children=(HTML(value=''), FloatProgress(value=0.0, max=5.0), HTML(value='')))"
      ]
     },
     "metadata": {},
     "output_type": "display_data"
    },
    {
     "name": "stdout",
     "output_type": "stream",
     "text": [
      "\n"
     ]
    },
    {
     "data": {
      "image/png": "[encoded data removed]",
      "text/plain": [
       "<Figure size 432x288 with 1 Axes>"
      ]
     },
     "metadata": {
      "needs_background": "light"
     },
     "output_type": "display_data"
    }
   ],
   "source": [
    "wonderful_expressive.build_regression_models()"
   ]
  },
  {
   "cell_type": "markdown",
   "metadata": {},
   "source": [
    "## Анализ результатов"
   ]
  },
  {
   "cell_type": "markdown",
   "metadata": {},
   "source": [
    "Рассмотрим примеры вхождения экспрессива \"wonderful\" в различных рецензиях с разными оценками.\n",
    "\n",
    "\n",
    "**Пример рецензии с оценкой 1** \n",
    "<br>\n",
    "(самый \"негативный\" отзыв)\n",
    "\n",
    "Из отзыва видно, что слово 'wonderful' в данном случае относится к другой книге, которая была прочитана автором отзыва."
   ]
  },
  {
   "cell_type": "code",
   "execution_count": 64,
   "metadata": {},
   "outputs": [
    {
     "data": {
      "text/plain": [
       "\"I could only pick one year for when I read this book, but the truth is that I started it in 1991 and read 100 pages every year until I finished the damn thing in 1998. This book was horrific. There was no point, no enjoyment, no anything save for a harrowing description, 900 pages in length, of some sad sack in a tuberculosis sanitarium. The only reason I even finished the book was that I refused to let it defeat me.It wasn't until a friend I respect above all others urged me, pleaded with me, begged me to give Mann another chance that I, with much trepidation, read Buddenbrooks which is a wonderful novel and only makes me really truly wonder what in the name of Pete Mann was thinking when he wrote The Magic Mountain: easily the worst book masquerading as a good book I have ever read.\""
      ]
     },
     "execution_count": 64,
     "metadata": {},
     "output_type": "execute_result"
    }
   ],
   "source": [
    "one_star_reviews = books[books[\"rating\"] == 1.0]\n",
    "one_star_reviews = one_star_reviews[one_star_reviews['text'].str.contains('wonderful')]\n",
    "one_star_reviews['text'][3631]"
   ]
  },
  {
   "cell_type": "markdown",
   "metadata": {},
   "source": [
    "**Пример рецензии с оценкой 3**\n",
    "<br>\n",
    "В данном случае экспрессив \"wonderful\" имеет отношение к рецензируемой книге: \n",
    "<br>\n",
    "*There was **wonderful suspense** leading up to the climax*"
   ]
  },
  {
   "cell_type": "code",
   "execution_count": 68,
   "metadata": {},
   "outputs": [
    {
     "data": {
      "text/plain": [
       "'I was forced to read this book for my East/West Studies class, and it was actually not that bad. There was wonderful suspense leading up to the climax, and the conclusion seemed fitting when taking into account the greek mythology. '"
      ]
     },
     "execution_count": 68,
     "metadata": {},
     "output_type": "execute_result"
    }
   ],
   "source": [
    "three_star_reviews = books[books[\"rating\"] == 3.0]\n",
    "three_star_reviews = three_star_reviews[three_star_reviews['text'].str.contains('wonderful')]\n",
    "three_star_reviews['text'][524]"
   ]
  },
  {
   "cell_type": "markdown",
   "metadata": {},
   "source": [
    "**Пример рецензии с оценкой 5**\n",
    "<br>\n",
    "В данной рецензии экспрессив \"wonderful\" встречается дважды:\n",
    "<br>\n",
    "— Dionysus can be **wonderful** but also terrible.\n",
    "<br>\n",
    "— This has been a **wonderful** introduction to Ancient Greek plays and I shall probably read more of them!"
   ]
  },
  {
   "cell_type": "code",
   "execution_count": 84,
   "metadata": {},
   "outputs": [
    {
     "data": {
      "text/plain": [
       "'This was my first Ancient Greek play and I was very very impressed. Everything was clever and cleverly written, and very, for want of a better word, progressive!My favourite quote by far was:\"Dionysus will not make women chaste when they feel passion. But we need to reflect on whether chastity is actuallya part of their natural character and is good for all of themIf it really is, then no modest virgin will ever give in during Bacchic rites.\"I do think Dionysus was very unreasonable in punishing Cadmus - he was going to join in with the Bacchic ritual! Why should he be punished for the sins of his family? Dionysus can be wonderful but also terrible. It actually made me angry.However, this has been a wonderful introduction to Ancient Greek plays and I shall probably read more of them! Yay!'"
      ]
     },
     "execution_count": 84,
     "metadata": {},
     "output_type": "execute_result"
    }
   ],
   "source": [
    "five_star_reviews = books[books[\"rating\"] == 5.0]\n",
    "five_star_reviews = five_star_reviews[five_star_reviews['text'].str.contains('wonderful')]\n",
    "five_star_reviews['text'][450]"
   ]
  },
  {
   "cell_type": "markdown",
   "metadata": {},
   "source": [
    "Посмотрим, сколько рецензий с экспрессивом \"wonderful\" было в классах с оценками 1, 3 и 5. Видно, что чем выше оценка в рецензии, тем больше вхождений слова \"wonderful\" в классе. Это в очередной раз подтверждает J-образную форму профиля для данного экспрессива. "
   ]
  },
  {
   "cell_type": "code",
   "execution_count": 89,
   "metadata": {},
   "outputs": [
    {
     "name": "stdout",
     "output_type": "stream",
     "text": [
      "Число отзывов с оценкой 1, включающих экспрессив \"wonderful\": 25\n",
      "Число отзывов с оценкой 3, включающих экспрессив \"wonderful\": 41\n",
      "Число отзывов с оценкой 5, включающих экспрессив \"wonderful\": 165\n"
     ]
    }
   ],
   "source": [
    "print(f'Число отзывов с оценкой 1, включающих экспрессив \"wonderful\": {len(one_star_reviews)}')\n",
    "print(f'Число отзывов с оценкой 3, включающих экспрессив \"wonderful\": {len(three_star_reviews)}')\n",
    "print(f'Число отзывов с оценкой 5, включающих экспрессив \"wonderful\": {len(five_star_reviews)}')"
   ]
  }
 ],
 "metadata": {
  "kernelspec": {
   "display_name": "Python 3",
   "language": "python",
   "name": "python3"
  },
  "language_info": {
   "codemirror_mode": {
    "name": "ipython",
    "version": 3
   },
   "file_extension": ".py",
   "mimetype": "text/x-python",
   "name": "python",
   "nbconvert_exporter": "python",
   "pygments_lexer": "ipython3",
   "version": "3.8.5"
  }
 },
 "nbformat": 4,
 "nbformat_minor": 4
}
